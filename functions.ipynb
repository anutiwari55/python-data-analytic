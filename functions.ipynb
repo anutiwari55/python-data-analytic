{
 "cells": [
  {
   "cell_type": "markdown",
   "metadata": {},
   "source": []
  },
  {
   "cell_type": "markdown",
   "metadata": {},
   "source": [
    "# functions in python \n",
    "- predefined functions \n",
    "  - built-in functions (used directly)\n",
    "     :print(), input(), len(), type(), int(), sum()\n",
    "  - modules based functions\n",
    "     .local modules \n",
    "      :math \n",
    "      :datetime\n",
    "      :os\n",
    "      :turtle \n",
    "      :random\n",
    "  - 3rd party modules \n",
    "      :numpy\n",
    "      :pandas\n",
    "      :matplotlib\n",
    "      :dputils\n",
    "-user defined functions \n",
    "   -function with return value\n",
    "   -non-parameterized functions\n",
    "   -parameterized functions\n",
    "    :required parameters/named parameter \n",
    "    :default parameters \n",
    "    :variables args\n",
    "    :keyvalue variable args \n",
    "    :lambda\n",
    "    :map & filter "
   ]
  },
  {
   "cell_type": "markdown",
   "metadata": {},
   "source": [
    "modules based functions"
   ]
  },
  {
   "cell_type": "code",
   "execution_count": 1,
   "metadata": {},
   "outputs": [],
   "source": [
    "import math"
   ]
  },
  {
   "cell_type": "code",
   "execution_count": 2,
   "metadata": {},
   "outputs": [
    {
     "data": {
      "text/plain": [
       "3.141592653589793"
      ]
     },
     "execution_count": 2,
     "metadata": {},
     "output_type": "execute_result"
    }
   ],
   "source": [
    "math.pi"
   ]
  },
  {
   "cell_type": "code",
   "execution_count": 3,
   "metadata": {},
   "outputs": [
    {
     "data": {
      "text/plain": [
       "3628800"
      ]
     },
     "execution_count": 3,
     "metadata": {},
     "output_type": "execute_result"
    }
   ],
   "source": [
    "math.factorial(10)"
   ]
  },
  {
   "cell_type": "code",
   "execution_count": 4,
   "metadata": {},
   "outputs": [
    {
     "data": {
      "text/plain": [
       "-0.5440211108893698"
      ]
     },
     "execution_count": 4,
     "metadata": {},
     "output_type": "execute_result"
    }
   ],
   "source": [
    "math.sin(10)"
   ]
  },
  {
   "cell_type": "code",
   "execution_count": 5,
   "metadata": {},
   "outputs": [
    {
     "data": {
      "text/plain": [
       "3"
      ]
     },
     "execution_count": 5,
     "metadata": {},
     "output_type": "execute_result"
    }
   ],
   "source": [
    "math.floor(3.12930012)"
   ]
  },
  {
   "cell_type": "code",
   "execution_count": 6,
   "metadata": {},
   "outputs": [
    {
     "data": {
      "text/plain": [
       "4"
      ]
     },
     "execution_count": 6,
     "metadata": {},
     "output_type": "execute_result"
    }
   ],
   "source": [
    "math.ceil(3.129)"
   ]
  },
  {
   "cell_type": "code",
   "execution_count": 7,
   "metadata": {},
   "outputs": [
    {
     "data": {
      "text/plain": [
       "3.129"
      ]
     },
     "execution_count": 7,
     "metadata": {},
     "output_type": "execute_result"
    }
   ],
   "source": [
    "math.fabs(-3.129)"
   ]
  },
  {
   "cell_type": "code",
   "execution_count": 8,
   "metadata": {},
   "outputs": [],
   "source": [
    "from random import choice, randint"
   ]
  },
  {
   "cell_type": "code",
   "execution_count": 9,
   "metadata": {},
   "outputs": [
    {
     "name": "stdout",
     "output_type": "stream",
     "text": [
      "['😺', '🐵', '🐺', '🦝', '🦁', '🦒', '🐭', '🐷', '🐻\\u200d❄️', '🐮', '🐰', '🦄']\n",
      "your emoji is:🦄\n",
      "🐭\n"
     ]
    }
   ],
   "source": [
    "data = ['😺','🐵','🐺','🦝','🦁','🦒','🐭','🐷','🐻‍❄️','🐮','🐰','🦄']\n",
    "print(data)\n",
    "print(\"your emoji is:🦄\")\n",
    "print(choice(data))"
   ]
  },
  {
   "cell_type": "code",
   "execution_count": 10,
   "metadata": {},
   "outputs": [
    {
     "name": "stdout",
     "output_type": "stream",
     "text": [
      "1\n"
     ]
    }
   ],
   "source": [
    "print(randint(1,6))"
   ]
  },
  {
   "cell_type": "code",
   "execution_count": 11,
   "metadata": {},
   "outputs": [
    {
     "name": "stdout",
     "output_type": "stream",
     "text": [
      "🦄 🐭 🐻‍❄️ 🐷 🐮 🐺 🐰 😺 🦝 🦁\n",
      "🐰 🦄 🐭 🐮 🐻‍❄️ 🐻‍❄️ 🐻‍❄️ 😺 🦒 🐭\n"
     ]
    }
   ],
   "source": [
    "from random import sample, choices\n",
    "out=sample(data,10)\n",
    "print(*out)#*here is a trick to unpack the list\n",
    "out2 = choices(data,k=10)\n",
    "print(*out2)"
   ]
  },
  {
   "cell_type": "code",
   "execution_count": 12,
   "metadata": {},
   "outputs": [],
   "source": [
    "from datetime import datetime\n"
   ]
  },
  {
   "cell_type": "code",
   "execution_count": 13,
   "metadata": {},
   "outputs": [
    {
     "name": "stdout",
     "output_type": "stream",
     "text": [
      "2024-07-27 11:11:52.440259\n"
     ]
    }
   ],
   "source": [
    "print(datetime.now())"
   ]
  },
  {
   "cell_type": "code",
   "execution_count": 14,
   "metadata": {},
   "outputs": [
    {
     "name": "stdout",
     "output_type": "stream",
     "text": [
      "2024-07-27\n",
      "2024-07-27\n",
      "2024-07-27 11:11:52.532341\n",
      "27/07/24\n"
     ]
    }
   ],
   "source": [
    "# date \n",
    "date = datetime.date(datetime.now())\n",
    "print(date)\n",
    "time = datetime.time(datetime.now())\n",
    "print(date)\n",
    "now = datetime.now()\n",
    "print(now)\n",
    "formatted = now.strftime(\"%d/%m/%y\")\n",
    "print(formatted)"
   ]
  },
  {
   "cell_type": "code",
   "execution_count": 15,
   "metadata": {},
   "outputs": [],
   "source": [
    "import os"
   ]
  },
  {
   "cell_type": "code",
   "execution_count": 16,
   "metadata": {},
   "outputs": [
    {
     "name": "stdout",
     "output_type": "stream",
     "text": [
      "current location\n",
      "c:\\Users\\Anu Tiwari\\web designing\n"
     ]
    }
   ],
   "source": [
    "print(\"current location\")\n",
    "print(os.getcwd())"
   ]
  },
  {
   "cell_type": "code",
   "execution_count": 17,
   "metadata": {},
   "outputs": [
    {
     "name": "stdout",
     "output_type": "stream",
     "text": [
      "list all files\n",
      "✅.git\n",
      "✅conditions.ipynb\n",
      "✅data analysis\n",
      "✅dictionary.ipynb\n",
      "✅functions.ipynb\n",
      "✅hg\n",
      "✅io.ipynb\n",
      "✅list.ipynb\n",
      "✅loops.ipynb\n",
      "✅pattern1.py\n",
      "✅python datatypes\n",
      "✅set.ipynb\n",
      "✅string.ipynb\n"
     ]
    }
   ],
   "source": [
    "print('list all files')\n",
    "content = os.listdir()\n",
    "for item in content:\n",
    "    print(f\"✅{item}\")"
   ]
  },
  {
   "cell_type": "code",
   "execution_count": 19,
   "metadata": {},
   "outputs": [
    {
     "name": "stdout",
     "output_type": "stream",
     "text": [
      "📁Adobe\n",
      "📁AMD\n",
      "📁Avast Software\n",
      "📁BlueStacks_nxt\n",
      "📁BraveSoftware\n",
      "📁Common Files\n",
      "📄desktop.ini\n",
      "📁Git\n",
      "📁Google\n",
      "📁Internet Explorer\n",
      "📁JetBrains\n",
      "📁Lenovo\n",
      "📁LibUSB-Win32\n",
      "📁Microsoft\n",
      "📁Microsoft Office\n",
      "📁Microsoft Office 15\n",
      "📁Microsoft OneDrive\n",
      "📁Microsoft Update Health Tools\n",
      "📁ModifiableWindowsApps\n",
      "📁StarUML\n",
      "📁Uninstall Information\n",
      "📁Windows Defender\n",
      "📁Windows Mail\n",
      "📁Windows Media Player\n",
      "📁Windows NT\n",
      "📁Windows Photo Viewer\n",
      "📁Windows Sidebar\n",
      "📁WindowsApps\n",
      "📁WindowsPowerShell\n",
      "📁WinRAR\n"
     ]
    }
   ],
   "source": [
    "content = os.listdir(\"C:/Program Files\")\n",
    "for item in content:\n",
    "    path = f\"C:/Program Files/{item}\"\n",
    "    is_file = os.path.isfile(path)\n",
    "    if is_file:\n",
    "        print(f\"📄{item}\")\n",
    "    else:\n",
    "        print(f\"📁{item}\")"
   ]
  },
  {
   "cell_type": "code",
   "execution_count": 22,
   "metadata": {},
   "outputs": [],
   "source": [
    "os.makedirs(\"a/b/c\",exist_ok=True)"
   ]
  },
  {
   "cell_type": "code",
   "execution_count": 25,
   "metadata": {},
   "outputs": [],
   "source": [
    "os.makedirs(\"c:/important/work\",exist_ok=True)"
   ]
  },
  {
   "cell_type": "markdown",
   "metadata": {},
   "source": [
    "# User defined functions \n",
    "### stage 1:define a function (create)\n",
    "```python\n",
    "def fun_name([params...]):\n",
    "    statements\n",
    "    ...\n",
    "    [return value]\n",
    "### stage 2:call the function (use)\n",
    "```\n",
    "fun_name([args...])"
   ]
  },
  {
   "cell_type": "code",
   "execution_count": 29,
   "metadata": {},
   "outputs": [],
   "source": [
    "def adder():\n",
    "    a = int(input(\"enter the number:\"))\n",
    "    b = int(input(\"enter the another number:\"))\n",
    "    total = a + b\n",
    "    print(total)"
   ]
  },
  {
   "cell_type": "code",
   "execution_count": 30,
   "metadata": {},
   "outputs": [
    {
     "name": "stdout",
     "output_type": "stream",
     "text": [
      "673361\n",
      "11641\n",
      "100250\n"
     ]
    }
   ],
   "source": [
    "adder()\n",
    "adder()\n",
    "adder()"
   ]
  },
  {
   "cell_type": "code",
   "execution_count": 32,
   "metadata": {},
   "outputs": [],
   "source": [
    "def adder(a,b):\n",
    "    total = a + b\n",
    "    print(total)"
   ]
  },
  {
   "cell_type": "code",
   "execution_count": 33,
   "metadata": {},
   "outputs": [
    {
     "name": "stdout",
     "output_type": "stream",
     "text": [
      "93\n"
     ]
    }
   ],
   "source": [
    "adder(10,83)"
   ]
  },
  {
   "cell_type": "code",
   "execution_count": 34,
   "metadata": {},
   "outputs": [
    {
     "name": "stdout",
     "output_type": "stream",
     "text": [
      "946\n"
     ]
    }
   ],
   "source": [
    "x = 123\n",
    "y = 823\n",
    "adder(x,y)"
   ]
  },
  {
   "cell_type": "code",
   "execution_count": 49,
   "metadata": {},
   "outputs": [],
   "source": [
    "def si(p,a,t):\n",
    "    si= p*a*t\n",
    "    print(si)"
   ]
  },
  {
   "cell_type": "code",
   "execution_count": 50,
   "metadata": {},
   "outputs": [
    {
     "name": "stdout",
     "output_type": "stream",
     "text": [
      "14400\n"
     ]
    }
   ],
   "source": [
    "p =12\n",
    "r =100\n",
    "t =12\n",
    "si(p,r,t)"
   ]
  },
  {
   "cell_type": "code",
   "execution_count": 51,
   "metadata": {},
   "outputs": [
    {
     "name": "stdout",
     "output_type": "stream",
     "text": [
      "1256.0\n",
      "1256.0\n"
     ]
    }
   ],
   "source": [
    "def area_sphere(r):\n",
    "    area = 4 * 3.14 * r * r\n",
    "    print(area)\n",
    "\n",
    "r = 10 \n",
    "area_sphere(r)\n",
    "r = 10 \n",
    "area_sphere(r)"
   ]
  },
  {
   "cell_type": "code",
   "execution_count": 52,
   "metadata": {},
   "outputs": [
    {
     "name": "stdout",
     "output_type": "stream",
     "text": [
      "20\n"
     ]
    }
   ],
   "source": [
    "adder(10,10)"
   ]
  },
  {
   "cell_type": "code",
   "execution_count": 59,
   "metadata": {},
   "outputs": [
    {
     "name": "stdout",
     "output_type": "stream",
     "text": [
      "20\n",
      "None\n"
     ]
    },
    {
     "ename": "TypeError",
     "evalue": "unsupported operand type(s) for *: 'float' and 'NoneType'",
     "output_type": "error",
     "traceback": [
      "\u001b[1;31m---------------------------------------------------------------------------\u001b[0m",
      "\u001b[1;31mTypeError\u001b[0m                                 Traceback (most recent call last)",
      "Cell \u001b[1;32mIn[59], line 3\u001b[0m\n\u001b[0;32m      1\u001b[0m ans \u001b[38;5;241m=\u001b[39m adder(\u001b[38;5;241m15\u001b[39m,\u001b[38;5;241m5\u001b[39m)\n\u001b[0;32m      2\u001b[0m \u001b[38;5;28mprint\u001b[39m(ans)\n\u001b[1;32m----> 3\u001b[0m result \u001b[38;5;241m=\u001b[39m \u001b[43marea_sphere\u001b[49m\u001b[43m(\u001b[49m\u001b[43mans\u001b[49m\u001b[43m)\u001b[49m\n\u001b[0;32m      4\u001b[0m \u001b[38;5;28mprint\u001b[39m(result)\n",
      "Cell \u001b[1;32mIn[51], line 2\u001b[0m, in \u001b[0;36marea_sphere\u001b[1;34m(r)\u001b[0m\n\u001b[0;32m      1\u001b[0m \u001b[38;5;28;01mdef\u001b[39;00m \u001b[38;5;21marea_sphere\u001b[39m(r):\n\u001b[1;32m----> 2\u001b[0m     area \u001b[38;5;241m=\u001b[39m \u001b[38;5;241;43m4\u001b[39;49m\u001b[43m \u001b[49m\u001b[38;5;241;43m*\u001b[39;49m\u001b[43m \u001b[49m\u001b[38;5;241;43m3.14\u001b[39;49m\u001b[43m \u001b[49m\u001b[38;5;241;43m*\u001b[39;49m\u001b[43m \u001b[49m\u001b[43mr\u001b[49m \u001b[38;5;241m*\u001b[39m r\n\u001b[0;32m      3\u001b[0m     \u001b[38;5;28mprint\u001b[39m(area)\n",
      "\u001b[1;31mTypeError\u001b[0m: unsupported operand type(s) for *: 'float' and 'NoneType'"
     ]
    }
   ],
   "source": [
    "ans = adder(15,5)\n",
    "print(ans)\n",
    "result = area_sphere(ans)\n",
    "print(result)"
   ]
  },
  {
   "cell_type": "code",
   "execution_count": null,
   "metadata": {},
   "outputs": [],
   "source": [
    "# waf to count the number of words in a sentence\n",
    "def word_count(sentence):\n",
    "    words = sentence.split()\n",
    "    return len(words)\n",
    "\n",
    "sentence= \"I am a student\"\n",
    "print(word_count(sentence))\n",
    "\n",
    "sentence = \"this is a long sentence with many words\""
   ]
  }
 ],
 "metadata": {
  "kernelspec": {
   "display_name": "base",
   "language": "python",
   "name": "python3"
  },
  "language_info": {
   "codemirror_mode": {
    "name": "ipython",
    "version": 3
   },
   "file_extension": ".py",
   "mimetype": "text/x-python",
   "name": "python",
   "nbconvert_exporter": "python",
   "pygments_lexer": "ipython3",
   "version": "3.12.3"
  }
 },
 "nbformat": 4,
 "nbformat_minor": 2
}
