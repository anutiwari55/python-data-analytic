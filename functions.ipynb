{
 "cells": [
  {
   "cell_type": "markdown",
   "metadata": {},
   "source": []
  },
  {
   "cell_type": "markdown",
   "metadata": {},
   "source": [
    "# functions in python \n",
    "- predefined functions \n",
    "  - built-in functions (used directly)\n",
    "     :print(), input(), len(), type(), int(), sum()\n",
    "  - modules based functions\n",
    "     .local modules \n",
    "      :math \n",
    "      :datetime\n",
    "      :os\n",
    "      :turtle \n",
    "      :random\n",
    "  - 3rd party modules \n",
    "      :numpy\n",
    "      :pandas\n",
    "      :matplotlib\n",
    "      :dputils\n",
    "-user defined functions \n",
    "   -function with return value\n",
    "   -non-parameterized functions\n",
    "   -parameterized functions\n",
    "    :required parameters/named parameter \n",
    "    :default parameters \n",
    "    :variables args\n",
    "    :keyvalue variable args \n",
    "    :lambda\n",
    "    :map & filter "
   ]
  },
  {
   "cell_type": "markdown",
   "metadata": {},
   "source": [
    "modules based functions"
   ]
  },
  {
   "cell_type": "code",
   "execution_count": 1,
   "metadata": {},
   "outputs": [],
   "source": [
    "import math"
   ]
  },
  {
   "cell_type": "code",
   "execution_count": 2,
   "metadata": {},
   "outputs": [
    {
     "data": {
      "text/plain": [
       "3.141592653589793"
      ]
     },
     "execution_count": 2,
     "metadata": {},
     "output_type": "execute_result"
    }
   ],
   "source": [
    "math.pi"
   ]
  },
  {
   "cell_type": "code",
   "execution_count": 3,
   "metadata": {},
   "outputs": [
    {
     "data": {
      "text/plain": [
       "3628800"
      ]
     },
     "execution_count": 3,
     "metadata": {},
     "output_type": "execute_result"
    }
   ],
   "source": [
    "math.factorial(10)"
   ]
  },
  {
   "cell_type": "code",
   "execution_count": 4,
   "metadata": {},
   "outputs": [
    {
     "data": {
      "text/plain": [
       "-0.5440211108893698"
      ]
     },
     "execution_count": 4,
     "metadata": {},
     "output_type": "execute_result"
    }
   ],
   "source": [
    "math.sin(10)"
   ]
  },
  {
   "cell_type": "code",
   "execution_count": 5,
   "metadata": {},
   "outputs": [
    {
     "data": {
      "text/plain": [
       "3"
      ]
     },
     "execution_count": 5,
     "metadata": {},
     "output_type": "execute_result"
    }
   ],
   "source": [
    "math.floor(3.12930012)"
   ]
  },
  {
   "cell_type": "code",
   "execution_count": 6,
   "metadata": {},
   "outputs": [
    {
     "data": {
      "text/plain": [
       "4"
      ]
     },
     "execution_count": 6,
     "metadata": {},
     "output_type": "execute_result"
    }
   ],
   "source": [
    "math.ceil(3.129)"
   ]
  },
  {
   "cell_type": "code",
   "execution_count": 7,
   "metadata": {},
   "outputs": [
    {
     "data": {
      "text/plain": [
       "3.129"
      ]
     },
     "execution_count": 7,
     "metadata": {},
     "output_type": "execute_result"
    }
   ],
   "source": [
    "math.fabs(-3.129)"
   ]
  },
  {
   "cell_type": "code",
   "execution_count": 8,
   "metadata": {},
   "outputs": [],
   "source": [
    "from random import choice, randint"
   ]
  },
  {
   "cell_type": "code",
   "execution_count": 9,
   "metadata": {},
   "outputs": [
    {
     "name": "stdout",
     "output_type": "stream",
     "text": [
      "['😺', '🐵', '🐺', '🦝', '🦁', '🦒', '🐭', '🐷', '🐻\\u200d❄️', '🐮', '🐰', '🦄']\n",
      "your emoji is:🦄\n",
      "🐭\n"
     ]
    }
   ],
   "source": [
    "data = ['😺','🐵','🐺','🦝','🦁','🦒','🐭','🐷','🐻‍❄️','🐮','🐰','🦄']\n",
    "print(data)\n",
    "print(\"your emoji is:🦄\")\n",
    "print(choice(data))"
   ]
  },
  {
   "cell_type": "code",
   "execution_count": 10,
   "metadata": {},
   "outputs": [
    {
     "name": "stdout",
     "output_type": "stream",
     "text": [
      "1\n"
     ]
    }
   ],
   "source": [
    "print(randint(1,6))"
   ]
  },
  {
   "cell_type": "code",
   "execution_count": 11,
   "metadata": {},
   "outputs": [
    {
     "name": "stdout",
     "output_type": "stream",
     "text": [
      "🦄 🐭 🐻‍❄️ 🐷 🐮 🐺 🐰 😺 🦝 🦁\n",
      "🐰 🦄 🐭 🐮 🐻‍❄️ 🐻‍❄️ 🐻‍❄️ 😺 🦒 🐭\n"
     ]
    }
   ],
   "source": [
    "from random import sample, choices\n",
    "out=sample(data,10)\n",
    "print(*out)#*here is a trick to unpack the list\n",
    "out2 = choices(data,k=10)\n",
    "print(*out2)"
   ]
  },
  {
   "cell_type": "code",
   "execution_count": 12,
   "metadata": {},
   "outputs": [],
   "source": [
    "from datetime import datetime\n"
   ]
  },
  {
   "cell_type": "code",
   "execution_count": 13,
   "metadata": {},
   "outputs": [
    {
     "name": "stdout",
     "output_type": "stream",
     "text": [
      "2024-07-27 11:11:52.440259\n"
     ]
    }
   ],
   "source": [
    "print(datetime.now())"
   ]
  },
  {
   "cell_type": "code",
   "execution_count": 14,
   "metadata": {},
   "outputs": [
    {
     "name": "stdout",
     "output_type": "stream",
     "text": [
      "2024-07-27\n",
      "2024-07-27\n",
      "2024-07-27 11:11:52.532341\n",
      "27/07/24\n"
     ]
    }
   ],
   "source": [
    "# date \n",
    "date = datetime.date(datetime.now())\n",
    "print(date)\n",
    "time = datetime.time(datetime.now())\n",
    "print(date)\n",
    "now = datetime.now()\n",
    "print(now)\n",
    "formatted = now.strftime(\"%d/%m/%y\")\n",
    "print(formatted)"
   ]
  },
  {
   "cell_type": "code",
   "execution_count": 15,
   "metadata": {},
   "outputs": [],
   "source": [
    "import os"
   ]
  },
  {
   "cell_type": "code",
   "execution_count": 16,
   "metadata": {},
   "outputs": [
    {
     "name": "stdout",
     "output_type": "stream",
     "text": [
      "current location\n",
      "c:\\Users\\Anu Tiwari\\web designing\n"
     ]
    }
   ],
   "source": [
    "print(\"current location\")\n",
    "print(os.getcwd())"
   ]
  },
  {
   "cell_type": "code",
   "execution_count": 17,
   "metadata": {},
   "outputs": [
    {
     "name": "stdout",
     "output_type": "stream",
     "text": [
      "list all files\n",
      "✅.git\n",
      "✅conditions.ipynb\n",
      "✅data analysis\n",
      "✅dictionary.ipynb\n",
      "✅functions.ipynb\n",
      "✅hg\n",
      "✅io.ipynb\n",
      "✅list.ipynb\n",
      "✅loops.ipynb\n",
      "✅pattern1.py\n",
      "✅python datatypes\n",
      "✅set.ipynb\n",
      "✅string.ipynb\n"
     ]
    }
   ],
   "source": [
    "print('list all files')\n",
    "content = os.listdir()\n",
    "for item in content:\n",
    "    print(f\"✅{item}\")"
   ]
  },
  {
   "cell_type": "code",
   "execution_count": 19,
   "metadata": {},
   "outputs": [
    {
     "name": "stdout",
     "output_type": "stream",
     "text": [
      "📁Adobe\n",
      "📁AMD\n",
      "📁Avast Software\n",
      "📁BlueStacks_nxt\n",
      "📁BraveSoftware\n",
      "📁Common Files\n",
      "📄desktop.ini\n",
      "📁Git\n",
      "📁Google\n",
      "📁Internet Explorer\n",
      "📁JetBrains\n",
      "📁Lenovo\n",
      "📁LibUSB-Win32\n",
      "📁Microsoft\n",
      "📁Microsoft Office\n",
      "📁Microsoft Office 15\n",
      "📁Microsoft OneDrive\n",
      "📁Microsoft Update Health Tools\n",
      "📁ModifiableWindowsApps\n",
      "📁StarUML\n",
      "📁Uninstall Information\n",
      "📁Windows Defender\n",
      "📁Windows Mail\n",
      "📁Windows Media Player\n",
      "📁Windows NT\n",
      "📁Windows Photo Viewer\n",
      "📁Windows Sidebar\n",
      "📁WindowsApps\n",
      "📁WindowsPowerShell\n",
      "📁WinRAR\n"
     ]
    }
   ],
   "source": [
    "content = os.listdir(\"C:/Program Files\")\n",
    "for item in content:\n",
    "    path = f\"C:/Program Files/{item}\"\n",
    "    is_file = os.path.isfile(path)\n",
    "    if is_file:\n",
    "        print(f\"📄{item}\")\n",
    "    else:\n",
    "        print(f\"📁{item}\")"
   ]
  },
  {
   "cell_type": "code",
   "execution_count": 22,
   "metadata": {},
   "outputs": [],
   "source": [
    "os.makedirs(\"a/b/c\",exist_ok=True)"
   ]
  },
  {
   "cell_type": "code",
   "execution_count": 25,
   "metadata": {},
   "outputs": [],
   "source": [
    "os.makedirs(\"c:/important/work\",exist_ok=True)"
   ]
  },
  {
   "cell_type": "markdown",
   "metadata": {},
   "source": [
    "# User defined functions \n",
    "### stage 1:define a function (create)\n",
    "```python\n",
    "def fun_name([params...]):\n",
    "    statements\n",
    "    ...\n",
    "    [return value]\n",
    "### stage 2:call the function (use)\n",
    "```\n",
    "fun_name([args...])"
   ]
  },
  {
   "cell_type": "code",
   "execution_count": 29,
   "metadata": {},
   "outputs": [],
   "source": [
    "def adder():\n",
    "    a = int(input(\"enter the number:\"))\n",
    "    b = int(input(\"enter the another number:\"))\n",
    "    total = a + b\n",
    "    print(total)"
   ]
  },
  {
   "cell_type": "code",
   "execution_count": 30,
   "metadata": {},
   "outputs": [
    {
     "name": "stdout",
     "output_type": "stream",
     "text": [
      "673361\n",
      "11641\n",
      "100250\n"
     ]
    }
   ],
   "source": [
    "adder()\n",
    "adder()\n",
    "adder()"
   ]
  },
  {
   "cell_type": "code",
   "execution_count": 32,
   "metadata": {},
   "outputs": [],
   "source": [
    "def adder(a,b):\n",
    "    total = a + b\n",
    "    print(total)"
   ]
  },
  {
   "cell_type": "code",
   "execution_count": 33,
   "metadata": {},
   "outputs": [
    {
     "name": "stdout",
     "output_type": "stream",
     "text": [
      "93\n"
     ]
    }
   ],
   "source": [
    "adder(10,83)"
   ]
  },
  {
   "cell_type": "code",
   "execution_count": 34,
   "metadata": {},
   "outputs": [
    {
     "name": "stdout",
     "output_type": "stream",
     "text": [
      "946\n"
     ]
    }
   ],
   "source": [
    "x = 123\n",
    "y = 823\n",
    "adder(x,y)"
   ]
  },
  {
   "cell_type": "code",
   "execution_count": 49,
   "metadata": {},
   "outputs": [],
   "source": [
    "def si(p,a,t):\n",
    "    si= p*a*t\n",
    "    print(si)"
   ]
  },
  {
   "cell_type": "code",
   "execution_count": 50,
   "metadata": {},
   "outputs": [
    {
     "name": "stdout",
     "output_type": "stream",
     "text": [
      "14400\n"
     ]
    }
   ],
   "source": [
    "p =12\n",
    "r =100\n",
    "t =12\n",
    "si(p,r,t)"
   ]
  },
  {
   "cell_type": "code",
   "execution_count": 51,
   "metadata": {},
   "outputs": [
    {
     "name": "stdout",
     "output_type": "stream",
     "text": [
      "1256.0\n",
      "1256.0\n"
     ]
    }
   ],
   "source": [
    "def area_sphere(r):\n",
    "    area = 4 * 3.14 * r * r\n",
    "    print(area)\n",
    "\n",
    "r = 10 \n",
    "area_sphere(r)\n",
    "r = 10 \n",
    "area_sphere(r)"
   ]
  },
  {
   "cell_type": "code",
   "execution_count": 52,
   "metadata": {},
   "outputs": [
    {
     "name": "stdout",
     "output_type": "stream",
     "text": [
      "20\n"
     ]
    }
   ],
   "source": [
    "adder(10,10)"
   ]
  },
  {
   "cell_type": "code",
   "execution_count": 59,
   "metadata": {},
   "outputs": [
    {
     "name": "stdout",
     "output_type": "stream",
     "text": [
      "20\n",
      "None\n"
     ]
    },
    {
     "ename": "TypeError",
     "evalue": "unsupported operand type(s) for *: 'float' and 'NoneType'",
     "output_type": "error",
     "traceback": [
      "\u001b[1;31m---------------------------------------------------------------------------\u001b[0m",
      "\u001b[1;31mTypeError\u001b[0m                                 Traceback (most recent call last)",
      "Cell \u001b[1;32mIn[59], line 3\u001b[0m\n\u001b[0;32m      1\u001b[0m ans \u001b[38;5;241m=\u001b[39m adder(\u001b[38;5;241m15\u001b[39m,\u001b[38;5;241m5\u001b[39m)\n\u001b[0;32m      2\u001b[0m \u001b[38;5;28mprint\u001b[39m(ans)\n\u001b[1;32m----> 3\u001b[0m result \u001b[38;5;241m=\u001b[39m \u001b[43marea_sphere\u001b[49m\u001b[43m(\u001b[49m\u001b[43mans\u001b[49m\u001b[43m)\u001b[49m\n\u001b[0;32m      4\u001b[0m \u001b[38;5;28mprint\u001b[39m(result)\n",
      "Cell \u001b[1;32mIn[51], line 2\u001b[0m, in \u001b[0;36marea_sphere\u001b[1;34m(r)\u001b[0m\n\u001b[0;32m      1\u001b[0m \u001b[38;5;28;01mdef\u001b[39;00m \u001b[38;5;21marea_sphere\u001b[39m(r):\n\u001b[1;32m----> 2\u001b[0m     area \u001b[38;5;241m=\u001b[39m \u001b[38;5;241;43m4\u001b[39;49m\u001b[43m \u001b[49m\u001b[38;5;241;43m*\u001b[39;49m\u001b[43m \u001b[49m\u001b[38;5;241;43m3.14\u001b[39;49m\u001b[43m \u001b[49m\u001b[38;5;241;43m*\u001b[39;49m\u001b[43m \u001b[49m\u001b[43mr\u001b[49m \u001b[38;5;241m*\u001b[39m r\n\u001b[0;32m      3\u001b[0m     \u001b[38;5;28mprint\u001b[39m(area)\n",
      "\u001b[1;31mTypeError\u001b[0m: unsupported operand type(s) for *: 'float' and 'NoneType'"
     ]
    }
   ],
   "source": [
    "ans = adder(15,5)\n",
    "print(ans)\n",
    "result = area_sphere(ans)\n",
    "print(result)"
   ]
  },
  {
   "cell_type": "code",
   "execution_count": null,
   "metadata": {},
   "outputs": [],
   "source": [
    "# waf to count the number of words in a sentence\n",
    "def word_count(sentence):\n",
    "    words = sentence.split()\n",
    "    return len(words)\n",
    "\n",
    "sentence= \"I am a student\"\n",
    "print(word_count(sentence))\n",
    "\n",
    "sentence = \"this is a long sentence with many words\""
   ]
  },
  {
   "cell_type": "code",
   "execution_count": 1,
   "metadata": {},
   "outputs": [],
   "source": [
    "# required positional parameter \n",
    "def multiplier(a,b,c,d):\n",
    "    ans =  a*b*c*d\n",
    "    return ans"
   ]
  },
  {
   "cell_type": "code",
   "execution_count": null,
   "metadata": {},
   "outputs": [],
   "source": [
    "print(multiplier(1,2,3,4))          # positional argument\n",
    "print(multiplier(a=2, b=3, c=4 d=5)) #keyboard argument in any order\n",
    "print(multiplier(b=3,c=3,a=1,d=2))"
   ]
  },
  {
   "cell_type": "code",
   "execution_count": 12,
   "metadata": {},
   "outputs": [],
   "source": [
    "# default parameter \n",
    "def multiplier_v2(a=1,b=1,c=1,d=1):\n",
    "    ans =a*b*c*d\n",
    "    return ans"
   ]
  },
  {
   "cell_type": "code",
   "execution_count": 13,
   "metadata": {},
   "outputs": [
    {
     "name": "stdout",
     "output_type": "stream",
     "text": [
      "24\n",
      "6\n",
      "24\n"
     ]
    }
   ],
   "source": [
    "print(multiplier_v2(1,2,3,4))\n",
    "print(multiplier_v2(1,2,3)) #d is optional (default value = 1)\n",
    "print(multiplier_v2(1,2,3, d=4))"
   ]
  },
  {
   "cell_type": "code",
   "execution_count": 14,
   "metadata": {},
   "outputs": [],
   "source": [
    "def multiplier_v3(a=1,b=1,c=1,d=1):\n",
    "    ans = a*b*c*d\n",
    "    return ans"
   ]
  },
  {
   "cell_type": "code",
   "execution_count": null,
   "metadata": {},
   "outputs": [],
   "source": []
  },
  {
   "cell_type": "code",
   "execution_count": 7,
   "metadata": {},
   "outputs": [
    {
     "data": {
      "text/plain": [
       "['hell', ' w', 'rld']"
      ]
     },
     "execution_count": 7,
     "metadata": {},
     "output_type": "execute_result"
    }
   ],
   "source": [
    "\"hello world\".split(sep='o') # default parameter example in predefined function"
   ]
  },
  {
   "cell_type": "code",
   "execution_count": 15,
   "metadata": {},
   "outputs": [
    {
     "name": "stdout",
     "output_type": "stream",
     "text": [
      "\n",
      "1\n",
      "1 2 3\n",
      "1 2 3 4 5 6 7 8 9 0 1\n"
     ]
    }
   ],
   "source": [
    "# variable length argument\n",
    "print()\n",
    "print(1)\n",
    "print(1,2,3)\n",
    "print(1,2,3,4,5,6,7,8,9,0,1)\n"
   ]
  },
  {
   "cell_type": "code",
   "execution_count": 8,
   "metadata": {},
   "outputs": [],
   "source": [
    "def stats(*num, action='mean'):\n",
    "    if action == 'mean':\n",
    "        total = sum(num)\n",
    "        size = len(num)\n",
    "        return total / size \n",
    "    elif action == 'sum':\n",
    "        return sum(num)\n"
   ]
  },
  {
   "cell_type": "code",
   "execution_count": 11,
   "metadata": {},
   "outputs": [
    {
     "name": "stdout",
     "output_type": "stream",
     "text": [
      "5.0\n",
      "44.0\n",
      "3.0\n",
      "12\n"
     ]
    }
   ],
   "source": [
    "print(stats(1,2,3,4,5,6,7,8,9))\n",
    "print(stats(22,33,44,55,66))\n",
    "print(stats(4,5,1,2))\n",
    "print(stats(4,5,1,2, action='sum'))"
   ]
  },
  {
   "cell_type": "markdown",
   "metadata": {},
   "source": [
    "when defining a function:\n",
    "```\n",
    "-only one parameter can be variable length parameter (*args)\n",
    "-only one parameter can be variable keyword parameter (**kwargs)\n",
    "default parameters should be at the end\n"
   ]
  },
  {
   "cell_type": "code",
   "execution_count": 16,
   "metadata": {},
   "outputs": [],
   "source": [
    "# variable length keyword argument \n",
    "def person(**details):\n",
    "    print(\"details of the person\")\n",
    "    for k, v in details.items():\n",
    "        print(f\"{k:10}|{v}\")"
   ]
  },
  {
   "cell_type": "code",
   "execution_count": 17,
   "metadata": {},
   "outputs": [
    {
     "name": "stdout",
     "output_type": "stream",
     "text": [
      "details of the person\n",
      "name      |rahul\n",
      "details of the person\n",
      "name      |punit\n",
      "agr       |31\n",
      "city      |mumbai\n",
      "country   |india\n",
      "gender    |male\n"
     ]
    }
   ],
   "source": [
    "person(name='rahul')\n",
    "person(name='punit', agr=31, city='mumbai', country='india', gender='male')\n"
   ]
  },
  {
   "cell_type": "markdown",
   "metadata": {},
   "source": [
    "Lambda expression: simple equation as functions\n",
    "\n",
    "mathematical function:\n",
    "```\n",
    "\n",
    "f(x) = x**2 + 1\n",
    "g(x,y) = x**2 + y**2 + 1\n",
    "```\n",
    "lambda expression:\n",
    "```\n",
    "f = lambda x: x**2 + 1\n",
    "g = lambda x,y: x**2 + y**2 + 1\n",
    "\n"
   ]
  },
  {
   "cell_type": "code",
   "execution_count": 18,
   "metadata": {},
   "outputs": [
    {
     "data": {
      "text/plain": [
       "<function __main__.<lambda>(x)>"
      ]
     },
     "execution_count": 18,
     "metadata": {},
     "output_type": "execute_result"
    }
   ],
   "source": [
    "f = lambda x: x**2 + 1\n",
    "f"
   ]
  },
  {
   "cell_type": "code",
   "execution_count": 19,
   "metadata": {},
   "outputs": [
    {
     "name": "stdout",
     "output_type": "stream",
     "text": [
      "101\n",
      "5\n",
      "10001\n"
     ]
    }
   ],
   "source": [
    "print(f(10))\n",
    "print(f(2))\n",
    "print(f(100))\n"
   ]
  },
  {
   "cell_type": "code",
   "execution_count": 20,
   "metadata": {},
   "outputs": [
    {
     "name": "stdout",
     "output_type": "stream",
     "text": [
      "14\n",
      "26\n"
     ]
    }
   ],
   "source": [
    "g = lambda x, y: x**2 + y**2 + 1\n",
    "print(g(2,3))\n",
    "print(g(3,4))"
   ]
  },
  {
   "cell_type": "code",
   "execution_count": 22,
   "metadata": {},
   "outputs": [
    {
     "data": {
      "text/plain": [
       "[2, 5, 10, 17, 26, 37, 50, 65, 82, 101]"
      ]
     },
     "execution_count": 22,
     "metadata": {},
     "output_type": "execute_result"
    }
   ],
   "source": [
    "data = [1,2,3,4,5,6,7,8,9,10]\n",
    "f = lambda x: x**2 +1 \n",
    "list(map(f, data))"
   ]
  },
  {
   "cell_type": "code",
   "execution_count": 23,
   "metadata": {},
   "outputs": [
    {
     "data": {
      "text/plain": [
       "(2, 5, 10, 17, 26, 37, 50, 65, 82, 101)"
      ]
     },
     "execution_count": 23,
     "metadata": {},
     "output_type": "execute_result"
    }
   ],
   "source": [
    "tuple(map(f, data))"
   ]
  },
  {
   "cell_type": "code",
   "execution_count": 24,
   "metadata": {},
   "outputs": [
    {
     "data": {
      "text/plain": [
       "[102, 405, 910, 1617, 2526, 3637, 4950, 6465, 8182, 222]"
      ]
     },
     "execution_count": 24,
     "metadata": {},
     "output_type": "execute_result"
    }
   ],
   "source": [
    "data1 = [1,2,3,4,5,6,7,8,9,10]\n",
    "data2 = [10,20,30,40,50,60,70,80,90,11]\n",
    "g = lambda x, y: x**2 + y**2 + 1\n",
    "list(map(g, data1, data2))"
   ]
  },
  {
   "cell_type": "code",
   "execution_count": null,
   "metadata": {},
   "outputs": [],
   "source": []
  }
 ],
 "metadata": {
  "kernelspec": {
   "display_name": "base",
   "language": "python",
   "name": "python3"
  },
  "language_info": {
   "codemirror_mode": {
    "name": "ipython",
    "version": 3
   },
   "file_extension": ".py",
   "mimetype": "text/x-python",
   "name": "python",
   "nbconvert_exporter": "python",
   "pygments_lexer": "ipython3",
   "version": "3.12.3"
  }
 },
 "nbformat": 4,
 "nbformat_minor": 2
}
