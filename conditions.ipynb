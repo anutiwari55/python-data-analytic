{
 "cells": [
  {
   "cell_type": "code",
   "execution_count": 24,
   "metadata": {},
   "outputs": [],
   "source": [
    "# if elif ladder\n",
    "marks = 80\n",
    "if marks > 85:\n",
    "    grade = 'A'\n",
    "elif marks > 70:\n",
    "    grade ='B'\n",
    "elif marks > 60:\n",
    "    grade = 'C'\n",
    "elif marks > 50:\n",
    "    grade = 'D'\n",
    "else:\n",
    "    grade = 'F'\n",
    "\n",
    "    print(f\"Grade is {grade}\")\n"
   ]
  },
  {
   "cell_type": "code",
   "execution_count": 25,
   "metadata": {},
   "outputs": [
    {
     "name": "stdout",
     "output_type": "stream",
     "text": [
      "B 22 is the largest\n"
     ]
    }
   ],
   "source": [
    "# find the largest number \n",
    "a = 10\n",
    "b = 22\n",
    "c = 14\n",
    "if a > b and a > c:\n",
    "    print(f\"A {a} is the largest\")\n",
    "elif b > a and b > c:\n",
    "    print(f\"B {b} is the largest\")\n",
    "else:\n",
    "    print(f\"C {c} is the largest\")\n"
   ]
  },
  {
   "cell_type": "code",
   "execution_count": 26,
   "metadata": {},
   "outputs": [
    {
     "name": "stdout",
     "output_type": "stream",
     "text": [
      "enter valid details\n"
     ]
    }
   ],
   "source": [
    "# nested if else\n",
    "un = input('enter a username')\n",
    "pw = input('enter a password')\n",
    "if un !=''and pw !='':\n",
    "    if un == 'admin':\n",
    "        if pw =='admin':\n",
    "            print(\"Welcome, Admin\")\n",
    "        else:\n",
    "            print(\"Wrong Password\")\n",
    "    else:\n",
    "        print(\"Invalid username\")\n",
    "else:\n",
    "    print(\"enter valid details\")\n",
    "    "
   ]
  },
  {
   "cell_type": "code",
   "execution_count": 27,
   "metadata": {},
   "outputs": [
    {
     "name": "stdout",
     "output_type": "stream",
     "text": [
      "❌❌❌\n"
     ]
    }
   ],
   "source": [
    "# short hand if else \n",
    "a = -10 \n",
    "if a >= 10:\n",
    "    print(\"✅✅✅\")\n",
    "else:\n",
    "    print(\"❌❌❌\")"
   ]
  },
  {
   "cell_type": "code",
   "execution_count": 28,
   "metadata": {},
   "outputs": [
    {
     "name": "stdout",
     "output_type": "stream",
     "text": [
      "what would you like to eat\n",
      "menu\n",
      "1. Pizza 🍕\n",
      "2. Burgur\n",
      "3. pasta\n",
      "4. samdwich\n",
      "enter a number\n"
     ]
    },
    {
     "ename": "ValueError",
     "evalue": "invalid literal for int() with base 10: '>>>'",
     "output_type": "error",
     "traceback": [
      "\u001b[1;31m---------------------------------------------------------------------------\u001b[0m",
      "\u001b[1;31mValueError\u001b[0m                                Traceback (most recent call last)",
      "Cell \u001b[1;32mIn[28], line 9\u001b[0m\n\u001b[0;32m      7\u001b[0m \u001b[38;5;28mprint\u001b[39m(\u001b[38;5;124m\"\u001b[39m\u001b[38;5;124m4. samdwich\u001b[39m\u001b[38;5;124m\"\u001b[39m)\n\u001b[0;32m      8\u001b[0m \u001b[38;5;28mprint\u001b[39m(\u001b[38;5;124m\"\u001b[39m\u001b[38;5;124menter a number\u001b[39m\u001b[38;5;124m\"\u001b[39m)\n\u001b[1;32m----> 9\u001b[0m ch \u001b[38;5;241m=\u001b[39m \u001b[38;5;28;43mint\u001b[39;49m\u001b[43m(\u001b[49m\u001b[38;5;28;43minput\u001b[39;49m\u001b[43m(\u001b[49m\u001b[38;5;124;43m\"\u001b[39;49m\u001b[38;5;124;43m>>>\u001b[39;49m\u001b[38;5;124;43m\"\u001b[39;49m\u001b[43m)\u001b[49m\u001b[43m)\u001b[49m\n\u001b[0;32m     10\u001b[0m \u001b[38;5;28;01mmatch\u001b[39;00m ch:\n\u001b[0;32m     11\u001b[0m     \u001b[38;5;28;01mcase\u001b[39;00m \u001b[38;5;241m1\u001b[39m:\n",
      "\u001b[1;31mValueError\u001b[0m: invalid literal for int() with base 10: '>>>'"
     ]
    }
   ],
   "source": [
    "#matchcase(notsimilartoswitchcase)\n",
    "print(\"what would you like to eat\")\n",
    "print(\"menu\")\n",
    "print(\"1. Pizza 🍕\")\n",
    "print(\"2. Burgur\")\n",
    "print(\"3. pasta\")\n",
    "print(\"4. samdwich\")\n",
    "print(\"enter a number\")\n",
    "ch = int(input(\">>>\"))\n",
    "match ch:\n",
    "    case 1:\n",
    "        print(\"your order is pizza \\n total amt = 400\")\n",
    "    case 2:\n",
    "        print(\"your order is buger \\n total amt = 199\")\n",
    "    case 3:\n",
    "        print(\"your order is pasta \\n total amt = 299\")\n",
    "    case 4:\n",
    "        print(\"your order is sandwich \\n total amt = 99\")\n",
    "    case _:\n",
    "        print(\"Invalid choice\")\n"
   ]
  }
 ],
 "metadata": {
  "kernelspec": {
   "display_name": "base",
   "language": "python",
   "name": "python3"
  },
  "language_info": {
   "codemirror_mode": {
    "name": "ipython",
    "version": 3
   },
   "file_extension": ".py",
   "mimetype": "text/x-python",
   "name": "python",
   "nbconvert_exporter": "python",
   "pygments_lexer": "ipython3",
   "version": "3.12.3"
  }
 },
 "nbformat": 4,
 "nbformat_minor": 2
}
