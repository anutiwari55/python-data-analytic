{
 "cells": [
  {
   "cell_type": "code",
   "execution_count": 1,
   "metadata": {},
   "outputs": [],
   "source": [
    "import pandas as pd"
   ]
  },
  {
   "cell_type": "markdown",
   "metadata": {},
   "source": [
    "Pandas foe Analysis \n",
    "```\n",
    "- dataset \n",
    "  -dictionary of items \n",
    "  -list of items\n",
    "  -import csv files \n",
    "  -import excel files\n",
    "  -import json files \n",
    "\n",
    "-creating dataframe \n",
    "-reading data \n",
    "-selection of data\n",
    "-manipulating the data \n",
    "-cleaning the data \n",
    "-visualizing the data \n",
    "-saving the data \n",
    "\n"
   ]
  },
  {
   "cell_type": "markdown",
   "metadata": {},
   "source": []
  }
 ],
 "metadata": {
  "kernelspec": {
   "display_name": "base",
   "language": "python",
   "name": "python3"
  },
  "language_info": {
   "codemirror_mode": {
    "name": "ipython",
    "version": 3
   },
   "file_extension": ".py",
   "mimetype": "text/x-python",
   "name": "python",
   "nbconvert_exporter": "python",
   "pygments_lexer": "ipython3",
   "version": "3.12.3"
  }
 },
 "nbformat": 4,
 "nbformat_minor": 2
}
