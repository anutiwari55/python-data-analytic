{
 "cells": [
  {
   "cell_type": "code",
   "execution_count": 1,
   "metadata": {},
   "outputs": [
    {
     "name": "stdout",
     "output_type": "stream",
     "text": [
      "['chrome', 'photos', 'instagram', 'gallery', 'snapchat', 'whatsapp', 'nocrop', 'calllog', 'camera', 'zomato']\n"
     ]
    }
   ],
   "source": [
    "apps = ['chrome','photos','instagram','gallery','snapchat','whatsapp','nocrop','calllog','camera','zomato']\n",
    "print(apps)"
   ]
  },
  {
   "cell_type": "code",
   "execution_count": 3,
   "metadata": {},
   "outputs": [
    {
     "name": "stdout",
     "output_type": "stream",
     "text": [
      "whatsapp\n",
      "nocrop\n",
      "chrome\n"
     ]
    }
   ],
   "source": [
    "print(apps[5])\n",
    "print(apps[6])\n",
    "print(apps[0])"
   ]
  },
  {
   "cell_type": "code",
   "execution_count": 7,
   "metadata": {},
   "outputs": [
    {
     "name": "stdout",
     "output_type": "stream",
     "text": [
      "zomato\n",
      "chrome\n"
     ]
    }
   ],
   "source": [
    "print(apps[-1])\n",
    "print(apps[-0])"
   ]
  },
  {
   "cell_type": "code",
   "execution_count": 14,
   "metadata": {},
   "outputs": [
    {
     "name": "stdout",
     "output_type": "stream",
     "text": [
      "['chrome', 'photos', 'instagram', 'gallery', 'snapchat']\n",
      "['chrome', 'instagram', 'snapchat', 'nocrop', 'camera']\n",
      "['chrome', 'photos', 'instagram', 'gallery', 'snapchat']\n",
      "['whatsapp', 'nocrop', 'calllog', 'camera', 'zomato']\n",
      "['chrome', 'photos', 'instagram', 'gallery', 'snapchat', 'whatsapp', 'nocrop', 'calllog', 'camera', 'zomato']\n",
      "['chrome', 'instagram', 'snapchat', 'nocrop', 'camera']\n"
     ]
    }
   ],
   "source": [
    "print(apps[0:5])\n",
    "print(apps[0:10:2])\n",
    "print(apps[:5])\n",
    "print(apps[5:])\n",
    "print(apps[:])\n",
    "print(apps[::2])"
   ]
  },
  {
   "cell_type": "code",
   "execution_count": 15,
   "metadata": {},
   "outputs": [
    {
     "name": "stdout",
     "output_type": "stream",
     "text": [
      "['chrome', 'photos', 'instagram', 'gallery', 'snapchat', 'whatsapp', 'nocrop', 'calllog', 'camera', 'zomato']\n"
     ]
    }
   ],
   "source": [
    "print(apps)"
   ]
  },
  {
   "cell_type": "code",
   "execution_count": 19,
   "metadata": {},
   "outputs": [
    {
     "name": "stdout",
     "output_type": "stream",
     "text": [
      "['chrome', 'photos', 'instagram', 'gallery', 'snapchat', 'whatsapp', 'nocrop', 'calllog', 'camera', 'zomato', 'tinder', 'tinder', 'tinder', 'tinder']\n"
     ]
    }
   ],
   "source": [
    "apps.append('tinder')\n",
    "print(apps)"
   ]
  },
  {
   "cell_type": "code",
   "execution_count": 21,
   "metadata": {},
   "outputs": [
    {
     "name": "stdout",
     "output_type": "stream",
     "text": [
      "['chrome', 'photos', 'tinder', 'tinder', 'instagram', 'gallery', 'snapchat', 'whatsapp', 'nocrop', 'calllog', 'camera', 'zomato', 'tinder', 'tinder', 'tinder', 'tinder']\n"
     ]
    }
   ],
   "source": [
    "apps.insert(2,'tinder')\n",
    "print(apps)"
   ]
  },
  {
   "cell_type": "code",
   "execution_count": 24,
   "metadata": {},
   "outputs": [
    {
     "name": "stdout",
     "output_type": "stream",
     "text": [
      "['chrome', 'photos', 'tinder', 'tinder', 'instagram', 'gallery', 'snapchat', 'whatsapp', 'nocrop', 'calllog', 'camera', 'zomato', 'tinder', 'tinder']\n"
     ]
    }
   ],
   "source": [
    "apps.pop(13)\n",
    "print(apps)"
   ]
  },
  {
   "cell_type": "code",
   "execution_count": 25,
   "metadata": {},
   "outputs": [
    {
     "name": "stdout",
     "output_type": "stream",
     "text": [
      "['chrome', 'photos', 'tinder', 'instagram', 'gallery', 'snapchat', 'whatsapp', 'nocrop', 'calllog', 'camera', 'zomato', 'tinder', 'tinder']\n"
     ]
    }
   ],
   "source": [
    "apps.remove('tinder')\n",
    "print(apps)"
   ]
  },
  {
   "cell_type": "code",
   "execution_count": 30,
   "metadata": {},
   "outputs": [
    {
     "name": "stdout",
     "output_type": "stream",
     "text": [
      "['chrome', 'photos', 'tinder', 'instagram', 'gallery', 'snapchat', 'whatsapp', 'nocrop', 'calllog', 'camera', 'tinder']\n"
     ]
    }
   ],
   "source": [
    "apps.pop(11)\n",
    "print(apps)"
   ]
  },
  {
   "cell_type": "code",
   "execution_count": 31,
   "metadata": {},
   "outputs": [
    {
     "name": "stdout",
     "output_type": "stream",
     "text": [
      "['calllog', 'camera', 'chrome', 'gallery', 'instagram', 'nocrop', 'photos', 'snapchat', 'tinder', 'tinder', 'whatsapp']\n"
     ]
    }
   ],
   "source": [
    "\n",
    "apps.sort()\n",
    "print(apps)"
   ]
  },
  {
   "cell_type": "code",
   "execution_count": 35,
   "metadata": {},
   "outputs": [
    {
     "name": "stdout",
     "output_type": "stream",
     "text": [
      "['calllog', 'camera', 'chrome', 'gallery', 'instagram', 'nocrop', 'photos', 'snapchat', 'tinder', 'tinder', 'whatsapp']\n"
     ]
    }
   ],
   "source": [
    "apps2=apps.copy()\n",
    "print(apps2)"
   ]
  },
  {
   "cell_type": "code",
   "execution_count": 36,
   "metadata": {},
   "outputs": [
    {
     "name": "stdout",
     "output_type": "stream",
     "text": [
      "[]\n"
     ]
    }
   ],
   "source": [
    "apps.clear()\n",
    "print(apps)"
   ]
  },
  {
   "cell_type": "code",
   "execution_count": 38,
   "metadata": {},
   "outputs": [
    {
     "name": "stdout",
     "output_type": "stream",
     "text": [
      "['calllog', 'camera', 'chrome', 'gallery', 'instagram', 'nocrop', 'photos', 'snapchat', 'tinder', 'tinder', 'whatsapp', 'gpay', 'phonepay', 'maps', 'games']\n"
     ]
    }
   ],
   "source": [
    "apps3 = ['gpay','phonepay','maps','games',]\n",
    "apps2.extend(apps3)\n",
    "print(apps2)"
   ]
  },
  {
   "cell_type": "code",
   "execution_count": 5,
   "metadata": {},
   "outputs": [
    {
     "name": "stdout",
     "output_type": "stream",
     "text": [
      "4\n",
      "16\n",
      "36\n",
      "64\n",
      "100\n"
     ]
    }
   ],
   "source": [
    "a =[2,4,6,8,10]\n",
    "for i in a:\n",
    "    print(i**2)"
   ]
  },
  {
   "cell_type": "code",
   "execution_count": 2,
   "metadata": {},
   "outputs": [
    {
     "name": "stdout",
     "output_type": "stream",
     "text": [
      "[4]\n",
      "[4, 16]\n",
      "[4, 16, 36]\n",
      "[4, 16, 36, 64]\n",
      "[4, 16, 36, 64, 100]\n"
     ]
    }
   ],
   "source": [
    "a=[2,4,6,8,10]\n",
    "lst=[]\n",
    "for i in a:\n",
    "    lst.append(i**2)\n",
    "    print(lst)"
   ]
  },
  {
   "cell_type": "code",
   "execution_count": 1,
   "metadata": {},
   "outputs": [
    {
     "name": "stdout",
     "output_type": "stream",
     "text": [
      "[4, 16, 36, 64, 100]\n"
     ]
    }
   ],
   "source": [
    "num =[2,4,6,8,10]\n",
    "square = [i**2 for i in num]\n",
    "print(square)"
   ]
  },
  {
   "cell_type": "code",
   "execution_count": 4,
   "metadata": {},
   "outputs": [
    {
     "name": "stdout",
     "output_type": "stream",
     "text": [
      "[4, 8, 50, 10, 34, 54, 12, 2]\n"
     ]
    }
   ],
   "source": [
    "x = [1,4,3,5,7,5,8,50,10,34,23,54,12,2]\n",
    "even_nums = [num for num in x if num %2==0]\n",
    "print(even_nums)"
   ]
  },
  {
   "cell_type": "code",
   "execution_count": 7,
   "metadata": {},
   "outputs": [
    {
     "name": "stdout",
     "output_type": "stream",
     "text": [
      "['HELLO', 'MY', 'NAME', 'IS', 'ANU']\n"
     ]
    }
   ],
   "source": [
    "words =['hello','my','name','is','anu']\n",
    "lst =[i.upper() for i in words]\n",
    "print(lst)"
   ]
  },
  {
   "cell_type": "code",
   "execution_count": 8,
   "metadata": {},
   "outputs": [
    {
     "name": "stdout",
     "output_type": "stream",
     "text": [
      "['HELLO MY NAME IS ANU']\n"
     ]
    }
   ],
   "source": [
    "words =['hello my name is anu']\n",
    "lst =[i.upper() for i in words]\n",
    "print(lst)"
   ]
  },
  {
   "cell_type": "code",
   "execution_count": null,
   "metadata": {},
   "outputs": [],
   "source": []
  }
 ],
 "metadata": {
  "kernelspec": {
   "display_name": "base",
   "language": "python",
   "name": "python3"
  },
  "language_info": {
   "codemirror_mode": {
    "name": "ipython",
    "version": 3
   },
   "file_extension": ".py",
   "mimetype": "text/x-python",
   "name": "python",
   "nbconvert_exporter": "python",
   "pygments_lexer": "ipython3",
   "version": "3.12.3"
  }
 },
 "nbformat": 4,
 "nbformat_minor": 2
}
