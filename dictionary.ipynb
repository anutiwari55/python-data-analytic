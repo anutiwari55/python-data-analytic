{
 "cells": [
  {
   "cell_type": "code",
   "execution_count": null,
   "metadata": {},
   "outputs": [
    {
     "name": "stdout",
     "output_type": "stream",
     "text": [
      "{'name': 'john', 'class': '12th', 'roll_no': 12, 'age': 17}\n"
     ]
    }
   ],
   "source": [
    "students ={\n",
    "    \"name\" : \"john\",\n",
    "    \"class\" : \"12th\",\n",
    "    \"roll_no\" : 12,\n",
    "    \"age\" : 17\n",
    "}\n",
    "print(students)"
   ]
  },
  {
   "cell_type": "code",
   "execution_count": null,
   "metadata": {},
   "outputs": [
    {
     "name": "stdout",
     "output_type": "stream",
     "text": [
      "{'Lucknow': [25, 30, 35], 'Delhi': [30, 35, 40], 'Chennai': [24, 23, 22]}\n"
     ]
    }
   ],
   "source": [
    "temp ={\n",
    "    'Lucknow': [25,30,35],\n",
    "    'Delhi': [30,35,40],\n",
    "    'Chennai': [24,23,22]\n",
    "    }\n",
    "print(temp)"
   ]
  },
  {
   "cell_type": "code",
   "execution_count": null,
   "metadata": {},
   "outputs": [
    {
     "name": "stdout",
     "output_type": "stream",
     "text": [
      "{'name': 'Riya', 'age': 27, 'dept': 'HR', 'salary': 30000}\n"
     ]
    }
   ],
   "source": [
    "info = dict(name='Riya',age=27,dept='HR',salary=30000)\n",
    "print(info)"
   ]
  },
  {
   "cell_type": "code",
   "execution_count": null,
   "metadata": {},
   "outputs": [
    {
     "ename": "ValueError",
     "evalue": "invalid literal for int() with base 10: ''",
     "output_type": "error",
     "traceback": [
      "\u001b[1;31m---------------------------------------------------------------------------\u001b[0m",
      "\u001b[1;31mValueError\u001b[0m                                Traceback (most recent call last)",
      "Cell \u001b[1;32mIn[39], line 1\u001b[0m\n\u001b[1;32m----> 1\u001b[0m info2 \u001b[38;5;241m=\u001b[39m \u001b[38;5;28mdict\u001b[39m(name\u001b[38;5;241m=\u001b[39m\u001b[38;5;28minput\u001b[39m(\u001b[38;5;124m\"\u001b[39m\u001b[38;5;124menter the name\u001b[39m\u001b[38;5;124m\"\u001b[39m),age\u001b[38;5;241m=\u001b[39m\u001b[38;5;28;43mint\u001b[39;49m\u001b[43m(\u001b[49m\u001b[38;5;28;43minput\u001b[39;49m\u001b[43m(\u001b[49m\u001b[38;5;124;43m\"\u001b[39;49m\u001b[38;5;124;43menter the age\u001b[39;49m\u001b[38;5;124;43m\"\u001b[39;49m\u001b[43m)\u001b[49m\u001b[43m)\u001b[49m,\n\u001b[0;32m      2\u001b[0m             dept\u001b[38;5;241m=\u001b[39m\u001b[38;5;28minput\u001b[39m(\u001b[38;5;124m\"\u001b[39m\u001b[38;5;124menter the department\u001b[39m\u001b[38;5;124m\"\u001b[39m),salary\u001b[38;5;241m=\u001b[39m\u001b[38;5;28mint\u001b[39m(\u001b[38;5;28minput\u001b[39m(\u001b[38;5;124m\"\u001b[39m\u001b[38;5;124menter the salary\u001b[39m\u001b[38;5;124m\"\u001b[39m)))\n",
      "\u001b[1;31mValueError\u001b[0m: invalid literal for int() with base 10: ''"
     ]
    }
   ],
   "source": [
    "info2 = dict(name=input(\"enter the name\"),age=int(input(\"enter the age\")),\n",
    "            dept=input(\"enter the department\"),salary=int(input(\"enter the salary\")))\n"
   ]
  },
  {
   "cell_type": "code",
   "execution_count": null,
   "metadata": {},
   "outputs": [
    {
     "name": "stdout",
     "output_type": "stream",
     "text": [
      "{'name': 'john', 'age': 27, 'dept': 'HR', 'salary': 30000}\n"
     ]
    }
   ],
   "source": [
    "print(info2)"
   ]
  },
  {
   "cell_type": "code",
   "execution_count": null,
   "metadata": {},
   "outputs": [
    {
     "name": "stdout",
     "output_type": "stream",
     "text": [
      "john\n",
      "12\n"
     ]
    }
   ],
   "source": [
    "#1st method \n",
    "print(students[\"name\"])\n",
    "print(students[\"roll_no\"])"
   ]
  },
  {
   "cell_type": "code",
   "execution_count": null,
   "metadata": {},
   "outputs": [
    {
     "name": "stdout",
     "output_type": "stream",
     "text": [
      "john\n",
      "17\n"
     ]
    }
   ],
   "source": [
    "#2nd method\n",
    "print(students.get('name'))\n",
    "print(students.get('age'))"
   ]
  },
  {
   "cell_type": "code",
   "execution_count": null,
   "metadata": {},
   "outputs": [
    {
     "name": "stdout",
     "output_type": "stream",
     "text": [
      "{'name': 'john', 'class': '12th', 'roll_no': 12, 'age': 17, 'school': 'DPS', 'city': 'lucknow'}\n"
     ]
    }
   ],
   "source": [
    "#to add a items in a dictionary \n",
    "students['school']= 'DPS'\n",
    "students['city']= 'lucknow'\n",
    "print(students)"
   ]
  },
  {
   "cell_type": "code",
   "execution_count": null,
   "metadata": {},
   "outputs": [
    {
     "name": "stdout",
     "output_type": "stream",
     "text": [
      "name\n",
      "class\n",
      "roll_no\n",
      "age\n",
      "school\n",
      "city\n"
     ]
    }
   ],
   "source": [
    "for x in students:\n",
    "    print(x)"
   ]
  },
  {
   "cell_type": "code",
   "execution_count": null,
   "metadata": {},
   "outputs": [
    {
     "name": "stdout",
     "output_type": "stream",
     "text": [
      "name : john\n",
      "class : 12th\n",
      "roll_no : 12\n",
      "age : 17\n",
      "school : DPS\n",
      "city : lucknow\n"
     ]
    }
   ],
   "source": [
    "for k, v in students.items():\n",
    "    print(f'{k} : {v}')"
   ]
  },
  {
   "cell_type": "code",
   "execution_count": null,
   "metadata": {},
   "outputs": [
    {
     "name": "stdout",
     "output_type": "stream",
     "text": [
      "dict_keys(['name', 'class', 'roll_no', 'age', 'school', 'city'])\n",
      "dict_values(['john', '12th', 12, 17, 'DPS', 'lucknow'])\n",
      "dict_items([('name', 'john'), ('class', '12th'), ('roll_no', 12), ('age', 17), ('school', 'DPS'), ('city', 'lucknow')])\n"
     ]
    }
   ],
   "source": [
    "print(students.keys())\n",
    "print(students.values())\n",
    "print(students.items())"
   ]
  },
  {
   "cell_type": "code",
   "execution_count": null,
   "metadata": {},
   "outputs": [
    {
     "name": "stdout",
     "output_type": "stream",
     "text": [
      "{'emp001': {'name': 'john', 'age': '27', 'dept': 'HR', 'salary': '30000'}, 'emp002': {'name': 'anu', 'age': '22', 'dept': 'IT', 'salary': '20000'}, 'emp003': {'name': 'lee min hoo', 'age': '32', 'dept': 'actor', 'salary': '450000'}}\n"
     ]
    }
   ],
   "source": [
    "company = {\n",
    "    'emp001' : {\n",
    "    'name' : 'john',\n",
    "    'age' : '27',\n",
    "    'dept' : 'HR',\n",
    "    'salary' : '30000',\n",
    "},\n",
    "    'emp002' :{\n",
    "    'name': 'anu',\n",
    "    'age': '22',\n",
    "    'dept': 'IT',\n",
    "    'salary': '20000',    \n",
    "},\n",
    "'emp003': {\n",
    "    'name': 'lee min hoo',\n",
    "    'age': '32',\n",
    "    'dept': 'actor',\n",
    "    'salary': '450000',\n",
    "}\n",
    "}\n",
    "print(company)\n",
    "\n"
   ]
  },
  {
   "cell_type": "code",
   "execution_count": null,
   "metadata": {},
   "outputs": [],
   "source": [
    "from pprint import pp"
   ]
  },
  {
   "cell_type": "code",
   "execution_count": null,
   "metadata": {},
   "outputs": [
    {
     "name": "stdout",
     "output_type": "stream",
     "text": [
      "{'emp001': {'name': 'john', 'age': '27', 'dept': 'HR', 'salary': '30000'},\n",
      " 'emp002': {'name': 'anu', 'age': '22', 'dept': 'IT', 'salary': '20000'},\n",
      " 'emp003': {'name': 'lee min hoo',\n",
      "            'age': '32',\n",
      "            'dept': 'actor',\n",
      "            'salary': '450000'}}\n"
     ]
    }
   ],
   "source": [
    "pp(company)"
   ]
  },
  {
   "cell_type": "code",
   "execution_count": null,
   "metadata": {},
   "outputs": [
    {
     "name": "stdout",
     "output_type": "stream",
     "text": [
      "HR\n"
     ]
    }
   ],
   "source": [
    "print(company['emp001']['dept'])"
   ]
  },
  {
   "cell_type": "code",
   "execution_count": 6,
   "metadata": {},
   "outputs": [],
   "source": [
    "print(temp[\"Lucknow\"[1]])\n",
    "print(temp[\"Delhi\"[2]])"
   ]
  },
  {
   "cell_type": "code",
   "execution_count": null,
   "metadata": {},
   "outputs": [
    {
     "ename": "NameError",
     "evalue": "name 'temp' is not defined",
     "output_type": "error",
     "traceback": [
      "\u001b[1;31m---------------------------------------------------------------------------\u001b[0m",
      "\u001b[1;31mNameError\u001b[0m                                 Traceback (most recent call last)",
      "Cell \u001b[1;32mIn[4], line 1\u001b[0m\n\u001b[1;32m----> 1\u001b[0m \u001b[38;5;28mprint\u001b[39m(\u001b[38;5;124m'\u001b[39m\u001b[38;5;124mAverage temperature in Delhi:\u001b[39m\u001b[38;5;124m'\u001b[39m, \u001b[38;5;28msum\u001b[39m(\u001b[43mtemp\u001b[49m[\u001b[38;5;124m'\u001b[39m\u001b[38;5;124mDelhi\u001b[39m\u001b[38;5;124m'\u001b[39m]))\n",
      "\u001b[1;31mNameError\u001b[0m: name 'temp' is not defined"
     ]
    }
   ],
   "source": [
    "print('Average temperature in Delhi:', sum(temp[\"Delhi\"])/len(temp[\"Delhi\"]))"
   ]
  },
  {
   "cell_type": "code",
   "execution_count": null,
   "metadata": {},
   "outputs": [
    {
     "name": "stdout",
     "output_type": "stream",
     "text": [
      "{'Alex': {'english': 85, 'maths': 90, 'hindi': 79},\n",
      " 'rahul': {'english': 88, 'maths': 77, 'hindi': 66}}\n"
     ]
    }
   ],
   "source": [
    "report ={\n",
    "    'Alex': {\n",
    "        'english':85,\n",
    "        'maths':90,\n",
    "        'hindi':79\n",
    "    },\n",
    "    'rahul':{\n",
    "        'english':88,\n",
    "        'maths':77,\n",
    "        'hindi':66\n",
    "    },\n",
    "}\n",
    "pp(report)"
   ]
  },
  {
   "cell_type": "code",
   "execution_count": null,
   "metadata": {},
   "outputs": [
    {
     "name": "stdout",
     "output_type": "stream",
     "text": [
      "Alex\n",
      "-> english 85\n",
      "-> maths 90\n",
      "-> hindi 79\n",
      "-> total marks: 254\n",
      "rahul\n",
      "-> english 88\n",
      "-> maths 77\n",
      "-> hindi 66\n",
      "-> total marks: 231\n"
     ]
    }
   ],
   "source": [
    "for students,marks in report.items():\n",
    "    print(students)\n",
    "    for subject,mark in marks.items():\n",
    "        print('->', subject,mark)\n",
    "    print('-> total marks:', sum(marks.values()))"
   ]
  },
  {
   "cell_type": "code",
   "execution_count": null,
   "metadata": {},
   "outputs": [],
   "source": [
    "from pprint import pp"
   ]
  },
  {
   "cell_type": "code",
   "execution_count": null,
   "metadata": {},
   "outputs": [],
   "source": [
    "pp(company)"
   ]
  },
  {
   "cell_type": "code",
   "execution_count": null,
   "metadata": {},
   "outputs": [],
   "source": [
    "print(company['emp001']['dept'])"
   ]
  },
  {
   "cell_type": "code",
   "execution_count": null,
   "metadata": {},
   "outputs": [],
   "source": [
    "print(students.get('name'))\n",
    "print(students.get('age'))"
   ]
  },
  {
   "cell_type": "code",
   "execution_count": null,
   "metadata": {},
   "outputs": [],
   "source": []
  }
 ],
 "metadata": {
  "kernelspec": {
   "display_name": "base",
   "language": "python",
   "name": "python3"
  },
  "language_info": {
   "codemirror_mode": {
    "name": "ipython",
    "version": 3
   },
   "file_extension": ".py",
   "mimetype": "text/x-python",
   "name": "python",
   "nbconvert_exporter": "python",
   "pygments_lexer": "ipython3",
   "version": "3.12.3"
  }
 },
 "nbformat": 4,
 "nbformat_minor": 2
}
